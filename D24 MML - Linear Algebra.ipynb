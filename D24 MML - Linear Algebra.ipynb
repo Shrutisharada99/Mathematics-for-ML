{
 "cells": [
  {
   "cell_type": "code",
   "execution_count": 1,
   "id": "707db705-430e-462c-b326-dbd40b269468",
   "metadata": {},
   "outputs": [],
   "source": [
    "import pandas as pd\n",
    "import numpy as np\n",
    "import matplotlib.pyplot as plt\n",
    "np.random.seed(44)"
   ]
  },
  {
   "cell_type": "code",
   "execution_count": 2,
   "id": "d781feca-29f4-484d-8a3f-0e16f9897970",
   "metadata": {},
   "outputs": [
    {
     "name": "stdout",
     "output_type": "stream",
     "text": [
      "[[1 2 3]\n",
      " [3 4 5]\n",
      " [5 6 7]]\n"
     ]
    }
   ],
   "source": [
    "### create array by hand\n",
    "a = np.array([[1,2,3], [3,4,5], [5,6,7]])\n",
    "print(a)"
   ]
  },
  {
   "cell_type": "code",
   "execution_count": 3,
   "id": "28b36d63-ceee-42de-a80b-15b4d3ebd840",
   "metadata": {},
   "outputs": [
    {
     "data": {
      "text/plain": [
       "(3, 3)"
      ]
     },
     "execution_count": 3,
     "metadata": {},
     "output_type": "execute_result"
    }
   ],
   "source": [
    "a.shape"
   ]
  },
  {
   "cell_type": "code",
   "execution_count": 4,
   "id": "866462e3-122b-4a5c-b95f-9268ed864174",
   "metadata": {},
   "outputs": [
    {
     "name": "stdout",
     "output_type": "stream",
     "text": [
      "[[4 3 1]\n",
      " [3 0 4]\n",
      " [3 8 7]]\n"
     ]
    }
   ],
   "source": [
    "a = np.random.randint(0, 10, (3,3))\n",
    "print(a)"
   ]
  },
  {
   "cell_type": "code",
   "execution_count": 5,
   "id": "d3f4029e-d8a3-4d2b-b87c-5d2660551560",
   "metadata": {},
   "outputs": [
    {
     "name": "stdout",
     "output_type": "stream",
     "text": [
      "[[0. 0. 0.]\n",
      " [0. 0. 0.]\n",
      " [0. 0. 0.]]\n"
     ]
    }
   ],
   "source": [
    "a = np.zeros((3,3))\n",
    "print(a)"
   ]
  },
  {
   "cell_type": "code",
   "execution_count": 6,
   "id": "2be7ee28-d49f-42e3-b52b-15c81912f788",
   "metadata": {},
   "outputs": [
    {
     "name": "stdout",
     "output_type": "stream",
     "text": [
      "[[1. 1. 1.]\n",
      " [1. 1. 1.]\n",
      " [1. 1. 1.]]\n"
     ]
    }
   ],
   "source": [
    "a = np.ones((3,3))\n",
    "print(a)"
   ]
  },
  {
   "cell_type": "code",
   "execution_count": 7,
   "id": "47ba9c1d-8f9a-4c81-a2a2-e79508eb1510",
   "metadata": {},
   "outputs": [
    {
     "name": "stdout",
     "output_type": "stream",
     "text": [
      "[[1. 0. 0.]\n",
      " [0. 1. 0.]\n",
      " [0. 0. 1.]]\n"
     ]
    }
   ],
   "source": [
    "## Identity Matrix\n",
    "a = np.eye(3)\n",
    "print(a)"
   ]
  },
  {
   "cell_type": "markdown",
   "id": "c8b37d7f-b797-4cd3-947f-f7e3fe3e28af",
   "metadata": {},
   "source": [
    "### Matrix Addition"
   ]
  },
  {
   "cell_type": "code",
   "execution_count": 9,
   "id": "a294136f-9014-4d60-81c1-a06e9bc8896b",
   "metadata": {
    "scrolled": true
   },
   "outputs": [
    {
     "name": "stdout",
     "output_type": "stream",
     "text": [
      "a \n",
      " [[7 6 9]\n",
      " [3 7 3]\n",
      " [3 6 5]] \n",
      " b \n",
      " [[1. 0. 0.]\n",
      " [0. 1. 0.]\n",
      " [0. 0. 1.]]\n"
     ]
    }
   ],
   "source": [
    "a = np.random.randint(0,10, (3,3))\n",
    "b = np.eye(3)\n",
    "print('a', '\\n', a, '\\n', 'b','\\n', b)"
   ]
  },
  {
   "cell_type": "code",
   "execution_count": 10,
   "id": "32fc51f1-8bea-4a09-991f-601fc028b441",
   "metadata": {
    "scrolled": true
   },
   "outputs": [
    {
     "name": "stdout",
     "output_type": "stream",
     "text": [
      "c \n",
      " [[8. 6. 9.]\n",
      " [3. 8. 3.]\n",
      " [3. 6. 6.]]\n"
     ]
    }
   ],
   "source": [
    "## addition requires that shape of matrices are same\n",
    "c = a+b\n",
    "print('c', '\\n', c)"
   ]
  },
  {
   "cell_type": "markdown",
   "id": "d9112dd5-a2f1-4723-85ec-da5896ba57ea",
   "metadata": {},
   "source": [
    "### Matrix Multiplication"
   ]
  },
  {
   "cell_type": "code",
   "execution_count": 12,
   "id": "77675d24-51ea-4a0d-95bf-11da810b5c09",
   "metadata": {},
   "outputs": [
    {
     "name": "stdout",
     "output_type": "stream",
     "text": [
      "a \n",
      " [[4 5 9 1]\n",
      " [8 7 4 5]] \n",
      " b \n",
      " [[3 0 4]\n",
      " [9 2 8]\n",
      " [8 6 2]\n",
      " [0 3 4]]\n"
     ]
    }
   ],
   "source": [
    "a = np.random.randint(0,10, (2, 4))\n",
    "b = np.random.randint(0,10, (4, 3))\n",
    "print('a', '\\n', a, '\\n', 'b','\\n', b)"
   ]
  },
  {
   "cell_type": "code",
   "execution_count": 13,
   "id": "e4c5fb01-da24-4eb0-932b-ea623caebc1e",
   "metadata": {},
   "outputs": [
    {
     "name": "stdout",
     "output_type": "stream",
     "text": [
      "c \n",
      " [[129  67  78]\n",
      " [119  53 116]]\n"
     ]
    }
   ],
   "source": [
    "## matrix multiplication requires that k is same (n,k)*(k,m). \n",
    "c = np.dot(a,b)\n",
    "print('c', '\\n', c)"
   ]
  },
  {
   "cell_type": "markdown",
   "id": "f9b8a19f-1bf2-4db4-bc0b-1ab87a07ae98",
   "metadata": {},
   "source": [
    "### AB # BA"
   ]
  },
  {
   "cell_type": "code",
   "execution_count": 15,
   "id": "fc57a687-3d22-4b7a-b796-1a6b9e835d7a",
   "metadata": {},
   "outputs": [
    {
     "name": "stdout",
     "output_type": "stream",
     "text": [
      "a \n",
      " [[8 3 2 2]\n",
      " [1 2 2 9]\n",
      " [8 1 8 9]\n",
      " [4 2 4 6]] \n",
      " b \n",
      " [[7 5 5 6]\n",
      " [2 5 1 8]\n",
      " [9 1 8 0]\n",
      " [9 3 5 9]]\n"
     ]
    }
   ],
   "source": [
    "a = np.random.randint(0,10, (4, 4))\n",
    "b = np.random.randint(0,10, (4, 4))\n",
    "print('a', '\\n', a, '\\n', 'b','\\n', b)"
   ]
  },
  {
   "cell_type": "code",
   "execution_count": 16,
   "id": "60a40a3c-7868-4ca4-b5a2-a04fc51fed56",
   "metadata": {},
   "outputs": [
    {
     "name": "stdout",
     "output_type": "stream",
     "text": [
      "c1 \n",
      " [[ 98  63  69  90]\n",
      " [110  44  68 103]\n",
      " [211  80 150 137]\n",
      " [122  52  84  94]] \n",
      " c2 \n",
      " [[125  48  88 140]\n",
      " [ 61  33  54 106]\n",
      " [137  37  84  99]\n",
      " [151  56 100 144]]\n"
     ]
    }
   ],
   "source": [
    "c1 = np.dot(a,b)\n",
    "c2 = np.dot(b,a)\n",
    "print('c1', '\\n', c1, '\\n', 'c2', '\\n', c2)"
   ]
  },
  {
   "cell_type": "code",
   "execution_count": 17,
   "id": "1e29e8a9-8919-4046-8ba9-784f38819324",
   "metadata": {},
   "outputs": [
    {
     "data": {
      "text/plain": [
       "False"
      ]
     },
     "execution_count": 17,
     "metadata": {},
     "output_type": "execute_result"
    }
   ],
   "source": [
    "np.array_equal(c1, c2)"
   ]
  },
  {
   "cell_type": "markdown",
   "id": "c4a863a1-1f0a-4ff9-ab4e-5c80f0d09d26",
   "metadata": {},
   "source": [
    "### A*1 # A"
   ]
  },
  {
   "cell_type": "code",
   "execution_count": 19,
   "id": "ea16e477-9503-4297-b44d-122cec93764b",
   "metadata": {},
   "outputs": [
    {
     "name": "stdout",
     "output_type": "stream",
     "text": [
      "a \n",
      " [[5 0 8 0]\n",
      " [4 2 9 7]\n",
      " [6 6 2 5]\n",
      " [0 4 2 8]] \n",
      " b \n",
      " [[1. 1. 1. 1.]\n",
      " [1. 1. 1. 1.]\n",
      " [1. 1. 1. 1.]\n",
      " [1. 1. 1. 1.]]\n"
     ]
    }
   ],
   "source": [
    "a = np.random.randint(0,10, (4, 4))\n",
    "b = np.ones((4, 4))\n",
    "print('a', '\\n', a, '\\n', 'b','\\n', b)"
   ]
  },
  {
   "cell_type": "code",
   "execution_count": 20,
   "id": "41f8159b-5cc0-4c88-800f-a286815151b2",
   "metadata": {},
   "outputs": [
    {
     "name": "stdout",
     "output_type": "stream",
     "text": [
      "c [[13. 13. 13. 13.]\n",
      " [22. 22. 22. 22.]\n",
      " [19. 19. 19. 19.]\n",
      " [14. 14. 14. 14.]]\n"
     ]
    }
   ],
   "source": [
    "c = np.dot(a, b)\n",
    "print('c', c)"
   ]
  },
  {
   "cell_type": "markdown",
   "id": "add5133b-f633-437e-9c59-78099b73c265",
   "metadata": {},
   "source": [
    "### A*I = A"
   ]
  },
  {
   "cell_type": "code",
   "execution_count": 22,
   "id": "64c51e32-a307-4e0b-a921-e10875131a2e",
   "metadata": {},
   "outputs": [
    {
     "name": "stdout",
     "output_type": "stream",
     "text": [
      "a \n",
      " [[8 4 2 4]\n",
      " [8 2 1 9]\n",
      " [4 6 9 3]\n",
      " [3 2 7 6]] \n",
      " I \n",
      " [[1. 0. 0. 0.]\n",
      " [0. 1. 0. 0.]\n",
      " [0. 0. 1. 0.]\n",
      " [0. 0. 0. 1.]]\n"
     ]
    }
   ],
   "source": [
    "a = np.random.randint(0,10, (4, 4))\n",
    "I = np.eye(4)\n",
    "print('a', '\\n', a, '\\n', 'I','\\n', I)"
   ]
  },
  {
   "cell_type": "code",
   "execution_count": 23,
   "id": "ee2e0916-1ee0-4b3c-939d-7522bfbca659",
   "metadata": {},
   "outputs": [
    {
     "name": "stdout",
     "output_type": "stream",
     "text": [
      "c [[8. 4. 2. 4.]\n",
      " [8. 2. 1. 9.]\n",
      " [4. 6. 9. 3.]\n",
      " [3. 2. 7. 6.]]\n"
     ]
    }
   ],
   "source": [
    "c = np.dot(a, I)\n",
    "print('c', c)"
   ]
  },
  {
   "cell_type": "markdown",
   "id": "3377a619-47aa-44c3-8ce4-b5929a901112",
   "metadata": {},
   "source": [
    "### Determinant of Matrix"
   ]
  },
  {
   "cell_type": "code",
   "execution_count": 25,
   "id": "d5eb4eb6-47af-486d-9185-3492de4df9f6",
   "metadata": {},
   "outputs": [
    {
     "name": "stdout",
     "output_type": "stream",
     "text": [
      "a \n",
      " [[5 1]\n",
      " [4 6]]\n"
     ]
    }
   ],
   "source": [
    "a = np.random.randint(0,10, (2, 2))\n",
    "print('a', '\\n', a)"
   ]
  },
  {
   "cell_type": "code",
   "execution_count": 26,
   "id": "e8a3418f-9add-4c86-93ec-46c287aaf0d3",
   "metadata": {},
   "outputs": [
    {
     "data": {
      "text/plain": [
       "25.99999999999999"
      ]
     },
     "execution_count": 26,
     "metadata": {},
     "output_type": "execute_result"
    }
   ],
   "source": [
    "np.linalg.det(a)"
   ]
  },
  {
   "cell_type": "code",
   "execution_count": 27,
   "id": "907a55bc-f725-4868-9cc2-b6233a412aeb",
   "metadata": {},
   "outputs": [
    {
     "name": "stdout",
     "output_type": "stream",
     "text": [
      "a \n",
      " [[8 8 0 5]\n",
      " [5 7 9 1]\n",
      " [1 7 1 4]\n",
      " [0 2 0 6]]\n"
     ]
    }
   ],
   "source": [
    "a = np.random.randint(0,10, (4,4))\n",
    "print('a', '\\n', a)"
   ]
  },
  {
   "cell_type": "code",
   "execution_count": 28,
   "id": "61687a72-a217-460f-971f-d4418dab5ed8",
   "metadata": {},
   "outputs": [
    {
     "data": {
      "text/plain": [
       "-1975.9999999999993"
      ]
     },
     "execution_count": 28,
     "metadata": {},
     "output_type": "execute_result"
    }
   ],
   "source": [
    "np.linalg.det(a)"
   ]
  },
  {
   "cell_type": "markdown",
   "id": "0096fbad-e5ea-44cb-8b08-d3046710124f",
   "metadata": {},
   "source": [
    "### Transpose of Matrix"
   ]
  },
  {
   "cell_type": "code",
   "execution_count": 30,
   "id": "da2f18b0-1c0f-4738-9c5c-edc38cd241ac",
   "metadata": {},
   "outputs": [
    {
     "name": "stdout",
     "output_type": "stream",
     "text": [
      "a \n",
      " [[9 7]\n",
      " [6 7]\n",
      " [4 0]\n",
      " [5 4]]\n"
     ]
    }
   ],
   "source": [
    "a = np.random.randint(0,10, (4,2))\n",
    "print('a', '\\n', a)"
   ]
  },
  {
   "cell_type": "code",
   "execution_count": 31,
   "id": "e870e98f-ae94-47ba-bbe6-308f05c514e4",
   "metadata": {},
   "outputs": [
    {
     "name": "stdout",
     "output_type": "stream",
     "text": [
      "a \n",
      " [[9 6 4 5]\n",
      " [7 7 0 4]]\n"
     ]
    }
   ],
   "source": [
    "b = np.transpose(a)\n",
    "print('a', '\\n', b)"
   ]
  },
  {
   "cell_type": "markdown",
   "id": "46bd6452-6196-46b5-bc15-1e92dfa3de1e",
   "metadata": {},
   "source": [
    "### Inverse of Matrix"
   ]
  },
  {
   "cell_type": "code",
   "execution_count": 33,
   "id": "3d9220a5-5484-4eb8-98b7-24aada3f026b",
   "metadata": {},
   "outputs": [
    {
     "name": "stdout",
     "output_type": "stream",
     "text": [
      "a \n",
      " [[2 4 9 7]\n",
      " [7 3 6 8]\n",
      " [0 6 1 6]\n",
      " [3 8 8 5]]\n"
     ]
    }
   ],
   "source": [
    "a = np.random.randint(0,10, (4,4))\n",
    "print('a', '\\n', a)"
   ]
  },
  {
   "cell_type": "code",
   "execution_count": 34,
   "id": "341d0e3b-b9b8-4fa1-992d-ecba459f4c94",
   "metadata": {},
   "outputs": [
    {
     "name": "stdout",
     "output_type": "stream",
     "text": [
      "a inverse \n",
      " [[-0.1713467   0.15472779 -0.07851003  0.08653295]\n",
      " [-0.1243553  -0.03151862  0.05673352  0.15644699]\n",
      " [ 0.12378223 -0.05157593 -0.10716332  0.03782235]\n",
      " [ 0.10372493  0.04011461  0.1277937  -0.16275072]]\n"
     ]
    }
   ],
   "source": [
    "ainv = np.linalg.inv(a)\n",
    "print('a inverse', '\\n', ainv)"
   ]
  },
  {
   "cell_type": "code",
   "execution_count": 35,
   "id": "8b1c0e1e-37bb-4f38-b451-e55515ad04a2",
   "metadata": {},
   "outputs": [
    {
     "name": "stdout",
     "output_type": "stream",
     "text": [
      "a*a_inverse \n",
      " [[ 1.00000000e+00 -1.38777878e-17  0.00000000e+00 -2.77555756e-17]\n",
      " [-1.11022302e-16  1.00000000e+00  0.00000000e+00  0.00000000e+00]\n",
      " [-2.77555756e-17 -8.32667268e-17  1.00000000e+00 -5.55111512e-17]\n",
      " [-1.52655666e-16 -4.16333634e-17  0.00000000e+00  1.00000000e+00]]\n"
     ]
    }
   ],
   "source": [
    "### dot product of a and a_inverse must be equal to identity matrix\n",
    "I = np.dot(a, ainv)\n",
    "print('a*a_inverse', '\\n', I)"
   ]
  },
  {
   "cell_type": "code",
   "execution_count": 36,
   "id": "87e65456-39bf-47ec-bee1-c207863978e7",
   "metadata": {},
   "outputs": [
    {
     "name": "stdout",
     "output_type": "stream",
     "text": [
      "inverse(a_inverse) \n",
      " [[2.00000000e+00 4.00000000e+00 9.00000000e+00 7.00000000e+00]\n",
      " [7.00000000e+00 3.00000000e+00 6.00000000e+00 8.00000000e+00]\n",
      " [9.87057658e-16 6.00000000e+00 1.00000000e+00 6.00000000e+00]\n",
      " [3.00000000e+00 8.00000000e+00 8.00000000e+00 5.00000000e+00]]\n"
     ]
    }
   ],
   "source": [
    "## inv(inv(A)) = A\n",
    "ainv2 = np.linalg.inv(ainv)\n",
    "print('inverse(a_inverse)', '\\n', ainv2)"
   ]
  },
  {
   "cell_type": "code",
   "execution_count": 37,
   "id": "bfbca558-89b9-4d98-a855-d7bcea84f499",
   "metadata": {},
   "outputs": [
    {
     "data": {
      "text/plain": [
       "False"
      ]
     },
     "execution_count": 37,
     "metadata": {},
     "output_type": "execute_result"
    }
   ],
   "source": [
    "np.array_equal(a, ainv2)"
   ]
  },
  {
   "cell_type": "markdown",
   "id": "b48d1c10-209e-4141-a058-b332836083c4",
   "metadata": {},
   "source": [
    "## Solving Linear Equations"
   ]
  },
  {
   "cell_type": "raw",
   "id": "aa27f697-86b2-4369-b67e-56b629a0e3b2",
   "metadata": {},
   "source": [
    "yd = 500-10x\n",
    "ys = 7x"
   ]
  },
  {
   "cell_type": "code",
   "execution_count": 39,
   "id": "9d5b9445-0349-4512-bfa1-05fa18e16b78",
   "metadata": {},
   "outputs": [],
   "source": [
    "x = np.linspace(0, 50, 1000)"
   ]
  },
  {
   "cell_type": "code",
   "execution_count": 40,
   "id": "2073012d-a7a4-48d2-956a-d76f3f60f0cb",
   "metadata": {},
   "outputs": [],
   "source": [
    "yd = 500-10*x\n",
    "ys = 7*x"
   ]
  },
  {
   "cell_type": "code",
   "execution_count": 51,
   "id": "871e15d1-f4a6-41c0-9230-923254614280",
   "metadata": {},
   "outputs": [
    {
     "data": {
      "image/png": "[encoded data removed]",
      "text/plain": [
       "<Figure size 1500x500 with 1 Axes>"
      ]
     },
     "metadata": {},
     "output_type": "display_data"
    }
   ],
   "source": [
    "plt.figure(figsize=(15,5))\n",
    "plt.plot(x, yd, 'b')\n",
    "plt.plot(x, ys, 'g')\n",
    "plt.grid()\n",
    "plt.show()"
   ]
  },
  {
   "cell_type": "markdown",
   "id": "e653fc4f-5107-436c-8999-e4013bb01d19",
   "metadata": {},
   "source": [
    "### Finding soln to Nutrition problem in the ppt"
   ]
  },
  {
   "cell_type": "code",
   "execution_count": 74,
   "id": "20042807-be21-4a31-9635-188592dc7f85",
   "metadata": {},
   "outputs": [
    {
     "name": "stdout",
     "output_type": "stream",
     "text": [
      "A \n",
      " [[36.  51.  13. ]\n",
      " [52.  34.  74. ]\n",
      " [ 0.   7.   1.1]]\n"
     ]
    }
   ],
   "source": [
    "A = np.array([[36, 51, 13], [52, 34, 74], [0, 7, 1.1]])\n",
    "print ('A', '\\n', A)"
   ]
  },
  {
   "cell_type": "code",
   "execution_count": 75,
   "id": "aca507c8-1e60-4bfd-83d0-faa6b9ebc4f2",
   "metadata": {},
   "outputs": [
    {
     "data": {
      "text/plain": [
       "(3, 3)"
      ]
     },
     "execution_count": 75,
     "metadata": {},
     "output_type": "execute_result"
    }
   ],
   "source": [
    "A.shape"
   ]
  },
  {
   "cell_type": "code",
   "execution_count": 76,
   "id": "1b20883e-70ba-4fd0-bf70-04b17625e9cb",
   "metadata": {},
   "outputs": [
    {
     "name": "stdout",
     "output_type": "stream",
     "text": [
      "B \n",
      " [[33]\n",
      " [45]\n",
      " [ 3]]\n"
     ]
    }
   ],
   "source": [
    "B = np.array([[33], [45], [3]])\n",
    "print ('B', '\\n', B)"
   ]
  },
  {
   "cell_type": "code",
   "execution_count": 78,
   "id": "30c01527-0a33-429e-af5d-deff1fc51260",
   "metadata": {},
   "outputs": [
    {
     "data": {
      "text/plain": [
       "(3, 1)"
      ]
     },
     "execution_count": 78,
     "metadata": {},
     "output_type": "execute_result"
    }
   ],
   "source": [
    "B.shape"
   ]
  },
  {
   "cell_type": "code",
   "execution_count": 79,
   "id": "93ea3d55-420e-401e-b29d-231c51b0f5a5",
   "metadata": {},
   "outputs": [
    {
     "name": "stdout",
     "output_type": "stream",
     "text": [
      "X \n",
      " [[0.27722318]\n",
      " [0.39192086]\n",
      " [0.23323088]]\n"
     ]
    }
   ],
   "source": [
    "X = np.dot(np.linalg.inv(A), B)\n",
    "print ('X', '\\n', X)"
   ]
  },
  {
   "cell_type": "raw",
   "id": "86e022c0-dd41-4313-bd46-9108e5473f7e",
   "metadata": {},
   "source": [
    "x + y + z = 6\n",
    "3x – 2y – z = 4\n",
    "2x + 3y – 2z = 2"
   ]
  },
  {
   "cell_type": "markdown",
   "id": "23e8f99c-94db-4fd8-b93e-17cb8cc1bf01",
   "metadata": {},
   "source": [
    "### Linear Independence"
   ]
  },
  {
   "cell_type": "code",
   "execution_count": 85,
   "id": "8184826d-b3fb-4ca0-b35f-b9a63a613ec9",
   "metadata": {},
   "outputs": [
    {
     "data": {
      "text/plain": [
       "array([[17, 44,  2, 31],\n",
       "       [37, 27, 20, 38],\n",
       "       [40, 40, 17, 42],\n",
       "       [20,  1,  0,  6]])"
      ]
     },
     "execution_count": 85,
     "metadata": {},
     "output_type": "execute_result"
    }
   ],
   "source": [
    "a = np.random.randint(0,50, (4,4))\n",
    "a"
   ]
  },
  {
   "cell_type": "code",
   "execution_count": 88,
   "id": "552f2738-a98d-4781-bab6-71a8ffe5c9ac",
   "metadata": {},
   "outputs": [
    {
     "data": {
      "text/plain": [
       "38350.99999999998"
      ]
     },
     "execution_count": 88,
     "metadata": {},
     "output_type": "execute_result"
    }
   ],
   "source": [
    "np.linalg.det(a)"
   ]
  },
  {
   "cell_type": "raw",
   "id": "61058dd5-963f-4bbe-bee8-a32f16fbe69e",
   "metadata": {},
   "source": [
    "Since det(a)≠0, the given vectors are linearly independent. "
   ]
  },
  {
   "cell_type": "code",
   "execution_count": 90,
   "id": "614c4bb2-183d-47e9-9e41-70f2dd81dfed",
   "metadata": {},
   "outputs": [
    {
     "data": {
      "text/plain": [
       "4"
      ]
     },
     "execution_count": 90,
     "metadata": {},
     "output_type": "execute_result"
    }
   ],
   "source": [
    "np.linalg.matrix_rank(a)"
   ]
  },
  {
   "cell_type": "raw",
   "id": "99d3f174-a223-4f26-a368-e672be75ae61",
   "metadata": {},
   "source": [
    "Rank of a matrix is the maximum number of linearly independent columns (or rows). Since the value here is 4 there is indepence between columns (and rows). "
   ]
  },
  {
   "cell_type": "raw",
   "id": "f14c319b-f6d0-4570-a01a-8e9c070cbe96",
   "metadata": {},
   "source": [
    "To create dependence we have doubled the first row to make second row."
   ]
  },
  {
   "cell_type": "code",
   "execution_count": 92,
   "id": "95018c06-9be5-4ff8-bcff-9f14466076f7",
   "metadata": {},
   "outputs": [
    {
     "data": {
      "text/plain": [
       "array([[26,  1, 18, 15],\n",
       "       [52,  2, 36, 30],\n",
       "       [17, 12, 24, 26],\n",
       "       [39, 48, 22, 13]])"
      ]
     },
     "execution_count": 92,
     "metadata": {},
     "output_type": "execute_result"
    }
   ],
   "source": [
    "b = np.array([[26,  1, 18, 15],\n",
    "       [52,  2,  36, 30],\n",
    "       [17, 12, 24, 26],\n",
    "       [39, 48, 22, 13]])\n",
    "b"
   ]
  },
  {
   "cell_type": "code",
   "execution_count": 94,
   "id": "a4a5a3ed-b4e2-4535-8457-f468b786b8ce",
   "metadata": {},
   "outputs": [
    {
     "data": {
      "text/plain": [
       "0.0"
      ]
     },
     "execution_count": 94,
     "metadata": {},
     "output_type": "execute_result"
    }
   ],
   "source": [
    "np.linalg.det(b)"
   ]
  },
  {
   "cell_type": "code",
   "execution_count": 96,
   "id": "49ad2d81-02c0-435a-99e3-c2fa3730cdd1",
   "metadata": {},
   "outputs": [
    {
     "data": {
      "text/plain": [
       "3"
      ]
     },
     "execution_count": 96,
     "metadata": {},
     "output_type": "execute_result"
    }
   ],
   "source": [
    "np.linalg.matrix_rank(b)"
   ]
  },
  {
   "cell_type": "raw",
   "id": "c3163365-6425-46a4-9cc0-824888edaa97",
   "metadata": {},
   "source": [
    "Rank of the matrix is now 3 since there is dependence between two rows."
   ]
  },
  {
   "cell_type": "markdown",
   "id": "03f5f64b-40ef-43de-8aaa-0bdb17c589b7",
   "metadata": {},
   "source": [
    "## Eigenvalue Decomposition"
   ]
  },
  {
   "cell_type": "code",
   "execution_count": 99,
   "id": "7ff47b35-35bc-4b8c-8b79-fa84cb91fe9a",
   "metadata": {},
   "outputs": [],
   "source": [
    "import scipy.linalg as la"
   ]
  },
  {
   "cell_type": "code",
   "execution_count": 100,
   "id": "41a898f4-d585-4012-9749-1700b681ebd2",
   "metadata": {},
   "outputs": [
    {
     "data": {
      "text/plain": [
       "array([[4, 2],\n",
       "       [1, 3]])"
      ]
     },
     "execution_count": 100,
     "metadata": {},
     "output_type": "execute_result"
    }
   ],
   "source": [
    "A = np.array([[4,2],[1,3]])\n",
    "A"
   ]
  },
  {
   "cell_type": "code",
   "execution_count": 103,
   "id": "ec5a1fdc-0c58-45d2-a847-8d4461d98c7f",
   "metadata": {},
   "outputs": [
    {
     "name": "stdout",
     "output_type": "stream",
     "text": [
      "Eigenvalues [5. 2.]\n"
     ]
    }
   ],
   "source": [
    "u, V = la.eig(A)\n",
    "print('Eigenvalues', u.real)"
   ]
  },
  {
   "cell_type": "raw",
   "id": "fb90b760-405d-484d-a5e9-51cdde9bb465",
   "metadata": {},
   "source": [
    "Since the A matrix is 2x2, there are two eigenvalues"
   ]
  },
  {
   "cell_type": "code",
   "execution_count": 105,
   "id": "9b391158-9c55-476a-bb3d-80e4b5c03fac",
   "metadata": {},
   "outputs": [
    {
     "name": "stdout",
     "output_type": "stream",
     "text": [
      "Eigenvector:   \n",
      " [[ 0.89442719 -0.70710678]\n",
      " [ 0.4472136   0.70710678]]\n"
     ]
    }
   ],
   "source": [
    "print('Eigenvector:  ','\\n', V)"
   ]
  },
  {
   "cell_type": "code",
   "execution_count": 111,
   "id": "41191006-9567-4c0c-9990-0272b7a0896e",
   "metadata": {},
   "outputs": [
    {
     "data": {
      "text/plain": [
       "(2,)"
      ]
     },
     "execution_count": 111,
     "metadata": {},
     "output_type": "execute_result"
    }
   ],
   "source": [
    "u.shape"
   ]
  },
  {
   "cell_type": "code",
   "execution_count": 113,
   "id": "26b98b5d-1ec7-4efb-af23-e9192ece9ecd",
   "metadata": {},
   "outputs": [
    {
     "data": {
      "text/plain": [
       "(2, 2)"
      ]
     },
     "execution_count": 113,
     "metadata": {},
     "output_type": "execute_result"
    }
   ],
   "source": [
    "V.shape"
   ]
  },
  {
   "cell_type": "raw",
   "id": "a1425d05-300b-475e-aeba-2055b0c0856e",
   "metadata": {},
   "source": [
    "Let's check if the values are correct and hold the expected eigen relationships"
   ]
  },
  {
   "cell_type": "code",
   "execution_count": 107,
   "id": "1862296a-97cd-4e32-a78b-b4a9aa8cfdf3",
   "metadata": {},
   "outputs": [
    {
     "data": {
      "text/plain": [
       "array([[ 4.47213595,  2.23606798],\n",
       "       [-1.41421356,  1.41421356]])"
      ]
     },
     "execution_count": 107,
     "metadata": {},
     "output_type": "execute_result"
    }
   ],
   "source": [
    "## Ax\n",
    "np.dot(A, V).T"
   ]
  },
  {
   "cell_type": "code",
   "execution_count": 109,
   "id": "244b9d11-e97c-40aa-97bd-f3bfd0728565",
   "metadata": {},
   "outputs": [
    {
     "name": "stdout",
     "output_type": "stream",
     "text": [
      "[4.47213595 2.23606798]\n",
      "[-1.41421356  1.41421356]\n"
     ]
    }
   ],
   "source": [
    "for i in range(2):\n",
    "    print(np.dot(u[i].real, V[:,i]))"
   ]
  }
 ],
 "metadata": {
  "kernelspec": {
   "display_name": "Python 3 (ipykernel)",
   "language": "python",
   "name": "python3"
  },
  "language_info": {
   "codemirror_mode": {
    "name": "ipython",
    "version": 3
   },
   "file_extension": ".py",
   "mimetype": "text/x-python",
   "name": "python",
   "nbconvert_exporter": "python",
   "pygments_lexer": "ipython3",
   "version": "3.12.4"
  }
 },
 "nbformat": 4,
 "nbformat_minor": 5
}
