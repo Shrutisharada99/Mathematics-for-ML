{
 "cells": [
  {
   "cell_type": "code",
   "execution_count": 1,
   "id": "5aafd5c9-14f3-4bb9-b009-77093a131a8b",
   "metadata": {},
   "outputs": [],
   "source": [
    "import pandas as pd\n",
    "import numpy as np\n",
    "import matplotlib.pyplot as plt\n",
    "np.random.seed(44)"
   ]
  },
  {
   "cell_type": "code",
   "execution_count": 2,
   "id": "952ec1b3-1ef9-4ce9-b787-25c0d3e8a3f4",
   "metadata": {},
   "outputs": [
    {
     "name": "stdout",
     "output_type": "stream",
     "text": [
      "[[1 2 3]\n",
      " [3 4 5]\n",
      " [5 6 7]]\n"
     ]
    }
   ],
   "source": [
    "# Create array by hand\n",
    "\n",
    "a = np.array([[1,2,3], [3,4,5], [5,6,7]])\n",
    "print(a)"
   ]
  },
  {
   "cell_type": "code",
   "execution_count": 3,
   "id": "e2dd54cb-7177-4d06-8b7f-85e5477f83dc",
   "metadata": {},
   "outputs": [
    {
     "data": {
      "text/plain": [
       "(3, 3)"
      ]
     },
     "execution_count": 3,
     "metadata": {},
     "output_type": "execute_result"
    }
   ],
   "source": [
    "a.shape"
   ]
  },
  {
   "cell_type": "code",
   "execution_count": 4,
   "id": "5e426b94-3662-4837-b8d4-95967a98d5f5",
   "metadata": {},
   "outputs": [
    {
     "name": "stdout",
     "output_type": "stream",
     "text": [
      "[[4 3 1]\n",
      " [3 0 4]\n",
      " [3 8 7]]\n"
     ]
    }
   ],
   "source": [
    "a = np.random.randint(0, 10, (3,3))\n",
    "print(a)"
   ]
  },
  {
   "cell_type": "code",
   "execution_count": 5,
   "id": "be73e4f4-e72c-4ebc-8ab8-7fd9c34ab216",
   "metadata": {},
   "outputs": [
    {
     "name": "stdout",
     "output_type": "stream",
     "text": [
      "[[0. 0. 0.]\n",
      " [0. 0. 0.]\n",
      " [0. 0. 0.]]\n"
     ]
    }
   ],
   "source": [
    "a = np.zeros((3,3))\n",
    "print(a)"
   ]
  },
  {
   "cell_type": "code",
   "execution_count": 34,
   "id": "02d5aefe-feae-4352-8fda-b695c4149175",
   "metadata": {},
   "outputs": [],
   "source": [
    "a = np.ones((3,3))"
   ]
  },
  {
   "cell_type": "code",
   "execution_count": 36,
   "id": "b359cba0-5b31-4db8-94d2-5579cc5401a1",
   "metadata": {
    "scrolled": true
   },
   "outputs": [
    {
     "name": "stdout",
     "output_type": "stream",
     "text": [
      "[[1. 1. 1.]\n",
      " [1. 1. 1.]\n",
      " [1. 1. 1.]]\n"
     ]
    }
   ],
   "source": [
    "print(a)"
   ]
  },
  {
   "cell_type": "code",
   "execution_count": 38,
   "id": "38df78c9-cd64-4fb6-b475-ea845ce8829c",
   "metadata": {},
   "outputs": [],
   "source": [
    "# Identity Matrix\n",
    "a = np.eye(3)"
   ]
  },
  {
   "cell_type": "code",
   "execution_count": 40,
   "id": "1ec028e3-e57f-4b17-99da-50b00a04ccf7",
   "metadata": {},
   "outputs": [
    {
     "name": "stdout",
     "output_type": "stream",
     "text": [
      "[[1. 0. 0.]\n",
      " [0. 1. 0.]\n",
      " [0. 0. 1.]]\n"
     ]
    }
   ],
   "source": [
    "print(a)"
   ]
  },
  {
   "cell_type": "markdown",
   "id": "447bea3a-893a-4c3d-969a-56c118b01e3b",
   "metadata": {},
   "source": [
    "# Matrix Addition"
   ]
  },
  {
   "cell_type": "code",
   "execution_count": 43,
   "id": "c9a0a869-3d3c-45fe-974e-ae5db64edff4",
   "metadata": {},
   "outputs": [],
   "source": [
    "a = np.random.randint(0, 10, (3,3))"
   ]
  },
  {
   "cell_type": "code",
   "execution_count": 45,
   "id": "7c2ecda7-fa71-45af-a86e-ddc65dce62e5",
   "metadata": {},
   "outputs": [],
   "source": [
    "b = np.eye(3) #float"
   ]
  },
  {
   "cell_type": "code",
   "execution_count": 47,
   "id": "5c22d700-4d1f-4004-8a3a-6b3b89afb506",
   "metadata": {},
   "outputs": [
    {
     "name": "stdout",
     "output_type": "stream",
     "text": [
      "a:\n",
      " [[8 3 2]\n",
      " [2 1 2]\n",
      " [2 9 8]] \n",
      "b:\n",
      " [[1. 0. 0.]\n",
      " [0. 1. 0.]\n",
      " [0. 0. 1.]]\n"
     ]
    }
   ],
   "source": [
    "print('a:\\n', a, '\\nb:\\n', b)"
   ]
  },
  {
   "cell_type": "code",
   "execution_count": 49,
   "id": "91e65ad9-d4bc-4e1b-aa4b-b8c90238596e",
   "metadata": {},
   "outputs": [
    {
     "name": "stdout",
     "output_type": "stream",
     "text": [
      "c:\n",
      " [[9. 3. 2.]\n",
      " [2. 2. 2.]\n",
      " [2. 9. 9.]]\n"
     ]
    }
   ],
   "source": [
    "#Addition required that shape of matrices are same\n",
    "\n",
    "c = a+b\n",
    "print('c:\\n', c)"
   ]
  },
  {
   "cell_type": "markdown",
   "id": "7820a178-8b58-4e99-b129-2cca58a76377",
   "metadata": {},
   "source": [
    "# Matrix Multiplication"
   ]
  },
  {
   "cell_type": "code",
   "execution_count": 52,
   "id": "b12be43c-9924-4b90-893f-e351a28324f0",
   "metadata": {},
   "outputs": [
    {
     "name": "stdout",
     "output_type": "stream",
     "text": [
      "a:\n",
      " [[1 8 9 4]\n",
      " [2 4 6 7]] \n",
      "b:\n",
      " [[5 5 6]\n",
      " [2 5 1]\n",
      " [8 9 1]\n",
      " [8 0 9]]\n"
     ]
    }
   ],
   "source": [
    "a = np.random.randint(0, 10, (2,4))\n",
    "b = np.random.randint(0, 10, (4,3))\n",
    "print('a:\\n', a, '\\nb:\\n', b)"
   ]
  },
  {
   "cell_type": "code",
   "execution_count": 54,
   "id": "e58f1608-ab87-4bd2-b1e3-c8042e8bc91a",
   "metadata": {},
   "outputs": [
    {
     "name": "stdout",
     "output_type": "stream",
     "text": [
      "[[125 126  59]\n",
      " [122  84  85]]\n"
     ]
    }
   ],
   "source": [
    "#Matrix multiplication requires that k is same (n,k)*(k,m) \n",
    "\n",
    "c = np.dot(a,b)\n",
    "print(c)\n",
    "#d = np.cross(a,b)\n",
    "#print(d)"
   ]
  },
  {
   "cell_type": "markdown",
   "id": "689f49bb-187d-4b0b-8237-7cdeb3f1c0c8",
   "metadata": {},
   "source": [
    "# AB # BA"
   ]
  },
  {
   "cell_type": "code",
   "execution_count": 57,
   "id": "af0967e3-6cc6-4610-afbd-3815cb23fe53",
   "metadata": {},
   "outputs": [
    {
     "ename": "ValueError",
     "evalue": "shapes (4,3) and (2,4) not aligned: 3 (dim 1) != 2 (dim 0)",
     "output_type": "error",
     "traceback": [
      "\u001b[1;31m---------------------------------------------------------------------------\u001b[0m",
      "\u001b[1;31mValueError\u001b[0m                                Traceback (most recent call last)",
      "Cell \u001b[1;32mIn[57], line 2\u001b[0m\n\u001b[0;32m      1\u001b[0m c1 \u001b[38;5;241m=\u001b[39m np\u001b[38;5;241m.\u001b[39mdot(a,b)\n\u001b[1;32m----> 2\u001b[0m c2 \u001b[38;5;241m=\u001b[39m np\u001b[38;5;241m.\u001b[39mdot(b,a)\n\u001b[0;32m      3\u001b[0m \u001b[38;5;28mprint\u001b[39m(\u001b[38;5;124m'\u001b[39m\u001b[38;5;124mc1:\u001b[39m\u001b[38;5;130;01m\\n\u001b[39;00m\u001b[38;5;124m'\u001b[39m, c1, \u001b[38;5;124m'\u001b[39m\u001b[38;5;124mc2:\u001b[39m\u001b[38;5;130;01m\\n\u001b[39;00m\u001b[38;5;124m'\u001b[39m, c2)\n",
      "\u001b[1;31mValueError\u001b[0m: shapes (4,3) and (2,4) not aligned: 3 (dim 1) != 2 (dim 0)"
     ]
    }
   ],
   "source": [
    "c1 = np.dot(a,b)\n",
    "c2 = np.dot(b,a)\n",
    "print('c1:\\n', c1, 'c2:\\n', c2)"
   ]
  },
  {
   "cell_type": "code",
   "execution_count": 59,
   "id": "11d47c77-5fca-4c1d-84e3-294da75c46a3",
   "metadata": {},
   "outputs": [
    {
     "name": "stdout",
     "output_type": "stream",
     "text": [
      "a:\n",
      " [[3 5 9 5]\n",
      " [0 8 0 4]\n",
      " [2 9 7 6]\n",
      " [6 2 5 0]] \n",
      "b:\n",
      " [[4 2 8 8]\n",
      " [4 2 4 8]\n",
      " [2 1 9 4]\n",
      " [6 9 3 3]]\n"
     ]
    }
   ],
   "source": [
    "a = np.random.randint(0, 10, (4,4))\n",
    "b = np.random.randint(0, 10, (4,4))\n",
    "print('a:\\n', a, '\\nb:\\n', b)"
   ]
  },
  {
   "cell_type": "code",
   "execution_count": 61,
   "id": "f23b4e7c-7c2f-4e6c-98d8-ae497963c5c4",
   "metadata": {},
   "outputs": [
    {
     "name": "stdout",
     "output_type": "stream",
     "text": [
      "c1:\n",
      " [[ 80  70 140 115]\n",
      " [ 56  52  44  76]\n",
      " [ 94  83 133 134]\n",
      " [ 42  21 101  84]] \n",
      "c2:\n",
      " [[ 76 124 132  76]\n",
      " [ 68  88 104  52]\n",
      " [ 48 107 101  68]\n",
      " [ 42 135  90  84]]\n"
     ]
    }
   ],
   "source": [
    "c1 = np.dot(a,b)\n",
    "c2 = np.dot(b,a)\n",
    "print('c1:\\n', c1, '\\nc2:\\n', c2)"
   ]
  },
  {
   "cell_type": "code",
   "execution_count": 63,
   "id": "11b60cff-c9b5-41b7-ba1c-e60ba23b034d",
   "metadata": {},
   "outputs": [
    {
     "name": "stdout",
     "output_type": "stream",
     "text": [
      "True\n"
     ]
    }
   ],
   "source": [
    "d = c1==c2\n",
    "for i in d:\n",
    "    #print(i)\n",
    "    for j in i:\n",
    "        if j == True:\n",
    "            #print(j)\n",
    "            e = True\n",
    "        else:\n",
    "            #print(\"In Else\", j)\n",
    "            e = False\n",
    "print(e)"
   ]
  },
  {
   "cell_type": "code",
   "execution_count": 65,
   "id": "5ae8abec-a600-4b81-956b-fda34ca397b5",
   "metadata": {},
   "outputs": [
    {
     "data": {
      "text/plain": [
       "array([[False, False, False, False],\n",
       "       [False, False, False, False],\n",
       "       [False, False, False, False],\n",
       "       [ True, False, False,  True]])"
      ]
     },
     "execution_count": 65,
     "metadata": {},
     "output_type": "execute_result"
    }
   ],
   "source": [
    "c1==c2"
   ]
  },
  {
   "cell_type": "code",
   "execution_count": 67,
   "id": "8e4c4f47-5da6-4adf-9af6-5361671dcafd",
   "metadata": {},
   "outputs": [
    {
     "name": "stdout",
     "output_type": "stream",
     "text": [
      "a:\n",
      " [[2 7 6 5]\n",
      " [1 4 6 8]\n",
      " [8 0 5 5]\n",
      " [7 9 1 1]] \n",
      "b:\n",
      " [[1. 1. 1. 1.]\n",
      " [1. 1. 1. 1.]\n",
      " [1. 1. 1. 1.]\n",
      " [1. 1. 1. 1.]]\n",
      "[[20. 20. 20. 20.]\n",
      " [19. 19. 19. 19.]\n",
      " [18. 18. 18. 18.]\n",
      " [18. 18. 18. 18.]]\n"
     ]
    }
   ],
   "source": [
    "a = np.random.randint(0, 10, (4,4))\n",
    "b = np.ones((4,4))\n",
    "print('a:\\n', a, '\\nb:\\n', b)\n",
    "c = np.dot(a,b)\n",
    "print(c)"
   ]
  },
  {
   "cell_type": "code",
   "execution_count": 69,
   "id": "ad1a62ff-1b48-42af-ac50-f4c9ab0eb495",
   "metadata": {},
   "outputs": [
    {
     "name": "stdout",
     "output_type": "stream",
     "text": [
      "a:\n",
      " [[7 1 4 0]\n",
      " [2 0 6 9]\n",
      " [7 6 7 4]\n",
      " [0 5 4 2]] \n",
      "b:\n",
      " [[1. 0. 0. 0.]\n",
      " [0. 1. 0. 0.]\n",
      " [0. 0. 1. 0.]\n",
      " [0. 0. 0. 1.]]\n"
     ]
    }
   ],
   "source": [
    "a = np.random.randint(0, 10, (4,4))\n",
    "b = np.eye(4)\n",
    "print('a:\\n', a, '\\nb:\\n', b)"
   ]
  },
  {
   "cell_type": "code",
   "execution_count": 71,
   "id": "a8f92264-a98f-4226-af0e-2aee4d1072a1",
   "metadata": {},
   "outputs": [
    {
     "name": "stdout",
     "output_type": "stream",
     "text": [
      "c [[7. 1. 4. 0.]\n",
      " [2. 0. 6. 9.]\n",
      " [7. 6. 7. 4.]\n",
      " [0. 5. 4. 2.]]\n"
     ]
    }
   ],
   "source": [
    "c = np.dot(a,b)\n",
    "print('c', c)"
   ]
  },
  {
   "cell_type": "markdown",
   "id": "e80b3b5b-409a-47ac-8274-8012a313a586",
   "metadata": {},
   "source": [
    "# Determinant of Matrix"
   ]
  },
  {
   "cell_type": "code",
   "execution_count": 74,
   "id": "c14def31-60d6-41bf-9d0f-9a8ce5242ae3",
   "metadata": {},
   "outputs": [
    {
     "name": "stdout",
     "output_type": "stream",
     "text": [
      "a\n",
      " [[4 9]\n",
      " [7 7]]\n"
     ]
    }
   ],
   "source": [
    "a = np.random.randint(0, 10, (2,2))\n",
    "print('a\\n', a)"
   ]
  },
  {
   "cell_type": "code",
   "execution_count": 76,
   "id": "f4528622-120c-4add-8631-14a1191fe507",
   "metadata": {},
   "outputs": [
    {
     "data": {
      "text/plain": [
       "-34.99999999999999"
      ]
     },
     "execution_count": 76,
     "metadata": {},
     "output_type": "execute_result"
    }
   ],
   "source": [
    "np.linalg.det(a)"
   ]
  },
  {
   "cell_type": "code",
   "execution_count": 78,
   "id": "e3212045-e6d1-489a-9d80-746f1bc8dee8",
   "metadata": {},
   "outputs": [
    {
     "name": "stdout",
     "output_type": "stream",
     "text": [
      "a\n",
      " [[3 6 8 0]\n",
      " [6 1 6 3]\n",
      " [8 8 5 1]\n",
      " [2 5 4 6]]\n"
     ]
    }
   ],
   "source": [
    "a = np.random.randint(0, 10, (4,4))\n",
    "print('a\\n', a)"
   ]
  },
  {
   "cell_type": "code",
   "execution_count": 80,
   "id": "c691b2c6-f376-40f8-b985-544dd1a59602",
   "metadata": {},
   "outputs": [
    {
     "data": {
      "text/plain": [
       "1962.999999999999"
      ]
     },
     "execution_count": 80,
     "metadata": {},
     "output_type": "execute_result"
    }
   ],
   "source": [
    "np.linalg.det(a)"
   ]
  },
  {
   "cell_type": "markdown",
   "id": "95289463-12c4-4300-b265-000eff0b7b7b",
   "metadata": {},
   "source": [
    "# Transpose of Matrix"
   ]
  },
  {
   "cell_type": "code",
   "execution_count": 83,
   "id": "b93b1bc2-e32a-48fd-94b1-b3a35110cee2",
   "metadata": {},
   "outputs": [
    {
     "name": "stdout",
     "output_type": "stream",
     "text": [
      "a\n",
      " [[8 8 1 4]\n",
      " [1 2 0 6]\n",
      " [4 5 2 1]\n",
      " [2 1 2 4]]\n"
     ]
    }
   ],
   "source": [
    "a = np.random.randint(0, 10, (4,4))\n",
    "print('a\\n', a)"
   ]
  },
  {
   "cell_type": "code",
   "execution_count": 85,
   "id": "42686c12-f01a-4cde-bf6e-58c0372e81a3",
   "metadata": {},
   "outputs": [
    {
     "name": "stdout",
     "output_type": "stream",
     "text": [
      "b\n",
      " [[8 1 4 2]\n",
      " [8 2 5 1]\n",
      " [1 0 2 2]\n",
      " [4 6 1 4]]\n"
     ]
    }
   ],
   "source": [
    "b = np.transpose(a)\n",
    "print(\"b\\n\", b)"
   ]
  },
  {
   "cell_type": "markdown",
   "id": "41684d55-813a-49dc-b419-1e516baff8f9",
   "metadata": {},
   "source": [
    "# Inverse of Matrix"
   ]
  },
  {
   "cell_type": "code",
   "execution_count": 94,
   "id": "f48df9dd-b02f-4a0d-9e80-283eabec5591",
   "metadata": {},
   "outputs": [
    {
     "name": "stdout",
     "output_type": "stream",
     "text": [
      "a\n",
      " [[0 8 2 1]\n",
      " [8 7 0 6]\n",
      " [0 3 9 6]\n",
      " [7 1 9 1]]\n"
     ]
    }
   ],
   "source": [
    "a = np.random.randint(0, 10, (4,4))\n",
    "print('a\\n', a)"
   ]
  },
  {
   "cell_type": "code",
   "execution_count": 96,
   "id": "2fcbcbbd-1f69-485d-8f23-4075cc7e531d",
   "metadata": {},
   "outputs": [],
   "source": [
    "ainv = np.linalg.inv(a)"
   ]
  },
  {
   "cell_type": "code",
   "execution_count": 100,
   "id": "0e077476-00ef-41af-953b-3c1784265a12",
   "metadata": {},
   "outputs": [
    {
     "name": "stdout",
     "output_type": "stream",
     "text": [
      "ainv\n",
      " [[-0.03691814  0.05992509 -0.06616729  0.07437132]\n",
      " [ 0.13162119  0.00374532 -0.02496879 -0.00428036]\n",
      " [ 0.02568218 -0.05617978  0.0411985   0.06420546]\n",
      " [-0.10433387  0.082397    0.11735331 -0.094168  ]]\n"
     ]
    }
   ],
   "source": [
    "print('ainv\\n', ainv)"
   ]
  },
  {
   "cell_type": "code",
   "execution_count": 102,
   "id": "0b59551c-25f2-427c-a71d-af552a911e35",
   "metadata": {},
   "outputs": [
    {
     "name": "stdout",
     "output_type": "stream",
     "text": [
      "I\n",
      " [[ 1.00000000e+00  0.00000000e+00  0.00000000e+00  0.00000000e+00]\n",
      " [ 2.77555756e-17  1.00000000e+00  0.00000000e+00  2.77555756e-17]\n",
      " [-1.94289029e-16  0.00000000e+00  1.00000000e+00 -8.32667268e-17]\n",
      " [ 5.55111512e-17 -1.11022302e-16 -4.16333634e-17  1.00000000e+00]]\n"
     ]
    }
   ],
   "source": [
    "I = np.dot(a, ainv)\n",
    "print('I\\n', I)"
   ]
  },
  {
   "cell_type": "code",
   "execution_count": 104,
   "id": "f8fdf96e-b903-4bd1-a45c-b730b19b7695",
   "metadata": {},
   "outputs": [
    {
     "name": "stdout",
     "output_type": "stream",
     "text": [
      "Inverse(a_inverse)\n",
      " [[1.33968604e-16 8.00000000e+00 2.00000000e+00 1.00000000e+00]\n",
      " [8.00000000e+00 7.00000000e+00 1.54638207e-15 6.00000000e+00]\n",
      " [9.15933995e-16 3.00000000e+00 9.00000000e+00 6.00000000e+00]\n",
      " [7.00000000e+00 1.00000000e+00 9.00000000e+00 1.00000000e+00]]\n"
     ]
    }
   ],
   "source": [
    "ainv2 = np.linalg.inv(ainv)\n",
    "print(\"Inverse(a_inverse)\\n\", ainv2)"
   ]
  },
  {
   "cell_type": "code",
   "execution_count": 106,
   "id": "4208f37b-fc5e-48a7-bbdc-44ca7c4da84e",
   "metadata": {},
   "outputs": [
    {
     "data": {
      "text/plain": [
       "False"
      ]
     },
     "execution_count": 106,
     "metadata": {},
     "output_type": "execute_result"
    }
   ],
   "source": [
    "np.array_equal(a, ainv2)"
   ]
  },
  {
   "cell_type": "markdown",
   "id": "2a9769fc-c8b2-41ee-a497-6edc7783f1f5",
   "metadata": {},
   "source": [
    "# Solving Linear Equations"
   ]
  },
  {
   "cell_type": "raw",
   "id": "b6cd03ce-76f9-4237-ad9d-29b976b5991d",
   "metadata": {},
   "source": [
    "yd = 500 - 10x\n",
    "ys = 7x"
   ]
  },
  {
   "cell_type": "code",
   "execution_count": 109,
   "id": "24f6402a-705d-4563-88e4-8fc444e067f6",
   "metadata": {},
   "outputs": [],
   "source": [
    "x = np.linspace(0, 50, 1000)"
   ]
  },
  {
   "cell_type": "code",
   "execution_count": 111,
   "id": "4976595e-98e5-407b-a5f8-b2caaa1cb47e",
   "metadata": {},
   "outputs": [],
   "source": [
    "yd = 500 - 10*x\n",
    "ys = 7*x"
   ]
  },
  {
   "cell_type": "code",
   "execution_count": 113,
   "id": "e41f4964-6940-43b2-9467-74d28ce027b1",
   "metadata": {},
   "outputs": [
    {
     "data": {
      "image/png": "[encoded data removed]",
      "text/plain": [
       "<Figure size 1500x500 with 1 Axes>"
      ]
     },
     "metadata": {},
     "output_type": "display_data"
    }
   ],
   "source": [
    "plt.figure(figsize=(15,5))\n",
    "plt.plot(x, yd, 'b')\n",
    "plt.plot(x, ys, 'g')\n",
    "plt.grid()\n",
    "plt.show()"
   ]
  },
  {
   "cell_type": "markdown",
   "id": "1cd05703-20cb-46a2-b6af-3ae237652415",
   "metadata": {},
   "source": [
    "# Finding solution to Nutrition Problem in the PPT"
   ]
  },
  {
   "cell_type": "code",
   "execution_count": 116,
   "id": "6a198387-96d0-4980-8f83-9e328836adc9",
   "metadata": {},
   "outputs": [
    {
     "name": "stdout",
     "output_type": "stream",
     "text": [
      "A\n",
      " [[36.  51.  13. ]\n",
      " [52.  34.  74. ]\n",
      " [ 0.   7.   1.1]]\n"
     ]
    }
   ],
   "source": [
    "A = np.array([[36,51,13], [52,34,74], [0, 7, 1.1]])\n",
    "print('A\\n', A)"
   ]
  },
  {
   "cell_type": "code",
   "execution_count": 118,
   "id": "ae7f2c4b-031c-40d6-8ae7-3be084547f0f",
   "metadata": {},
   "outputs": [],
   "source": [
    "B = np.array([[33], [45], [3]])"
   ]
  },
  {
   "cell_type": "code",
   "execution_count": 120,
   "id": "e6aea61b-76c3-4b9c-b741-0ed1d67ebc42",
   "metadata": {},
   "outputs": [
    {
     "name": "stdout",
     "output_type": "stream",
     "text": [
      "B\n",
      " [[33]\n",
      " [45]\n",
      " [ 3]]\n"
     ]
    }
   ],
   "source": [
    "print('B\\n', B)"
   ]
  },
  {
   "cell_type": "code",
   "execution_count": 122,
   "id": "8b5cf262-06fd-4804-afd0-7a174c5a8769",
   "metadata": {},
   "outputs": [
    {
     "data": {
      "text/plain": [
       "(3, 1)"
      ]
     },
     "execution_count": 122,
     "metadata": {},
     "output_type": "execute_result"
    }
   ],
   "source": [
    "B.shape"
   ]
  },
  {
   "cell_type": "code",
   "execution_count": 124,
   "id": "e236aa06-d25c-4327-ac99-f8c8f85a4a13",
   "metadata": {},
   "outputs": [],
   "source": [
    "X = np.dot(np.linalg.inv(A), B)"
   ]
  },
  {
   "cell_type": "code",
   "execution_count": 126,
   "id": "dc0fe034-e45f-49cc-b2a1-2d5483ccb1a4",
   "metadata": {},
   "outputs": [
    {
     "name": "stdout",
     "output_type": "stream",
     "text": [
      "X\n",
      " [[0.27722318]\n",
      " [0.39192086]\n",
      " [0.23323088]]\n"
     ]
    }
   ],
   "source": [
    "print(\"X\\n\", X)"
   ]
  },
  {
   "cell_type": "raw",
   "id": "b4e10784-1c11-4647-bb76-4dab6c55a8b8",
   "metadata": {},
   "source": [
    "10x + yd = 500\n",
    "-7x + ys = 0"
   ]
  },
  {
   "cell_type": "code",
   "execution_count": 128,
   "id": "4d3c553a-7cf6-4a81-a45a-0a30e8fbcd1a",
   "metadata": {},
   "outputs": [],
   "source": [
    "A = np.array([[10, 1], [-7, 1]])"
   ]
  },
  {
   "cell_type": "code",
   "execution_count": 130,
   "id": "36fcb371-5798-4b85-b60f-b3d115aecd54",
   "metadata": {},
   "outputs": [],
   "source": [
    "B = np.array([[500], [0]])"
   ]
  },
  {
   "cell_type": "code",
   "execution_count": 132,
   "id": "9aaeeba1-a259-4569-8a11-b46fb4a449c9",
   "metadata": {},
   "outputs": [
    {
     "name": "stdout",
     "output_type": "stream",
     "text": [
      "[[500]\n",
      " [  0]]\n"
     ]
    }
   ],
   "source": [
    "print(B)"
   ]
  },
  {
   "cell_type": "code",
   "execution_count": 134,
   "id": "1899468d-0d91-4fdf-9731-459cdaf20b04",
   "metadata": {},
   "outputs": [],
   "source": [
    "X = np.dot(np.linalg.inv(A), B)"
   ]
  },
  {
   "cell_type": "code",
   "execution_count": 136,
   "id": "8954a941-220b-46ab-9128-2310e4c63fad",
   "metadata": {},
   "outputs": [
    {
     "name": "stdout",
     "output_type": "stream",
     "text": [
      "X\n",
      " [[ 29.41176471]\n",
      " [205.88235294]]\n"
     ]
    }
   ],
   "source": [
    "print(\"X\\n\", X)"
   ]
  }
 ],
 "metadata": {
  "kernelspec": {
   "display_name": "Python 3 (ipykernel)",
   "language": "python",
   "name": "python3"
  },
  "language_info": {
   "codemirror_mode": {
    "name": "ipython",
    "version": 3
   },
   "file_extension": ".py",
   "mimetype": "text/x-python",
   "name": "python",
   "nbconvert_exporter": "python",
   "pygments_lexer": "ipython3",
   "version": "3.12.4"
  }
 },
 "nbformat": 4,
 "nbformat_minor": 5
}
