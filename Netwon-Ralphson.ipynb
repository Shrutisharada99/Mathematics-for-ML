{
 "cells": [
  {
   "cell_type": "code",
   "execution_count": 61,
   "id": "63f9afc0-2a66-4437-a4fe-737d86557005",
   "metadata": {},
   "outputs": [],
   "source": [
    "import pandas as pd\n",
    "import numpy as np\n",
    "import matplotlib.pyplot as plt\n",
    "np.random.seed(42)"
   ]
  },
  {
   "cell_type": "markdown",
   "id": "f23d3eb1-b80c-4da1-b18c-4a8064a8c78a",
   "metadata": {},
   "source": [
    "# Finding root of an equation - Brute-force method"
   ]
  },
  {
   "cell_type": "code",
   "execution_count": 27,
   "id": "e7711ee2-65ff-4d96-9d30-9405bb23fed6",
   "metadata": {},
   "outputs": [],
   "source": [
    "iter = 1000\n",
    "delta = 0.01\n",
    "tol = 0.001\n",
    "x0 = 10"
   ]
  },
  {
   "cell_type": "code",
   "execution_count": 7,
   "id": "1f404d0b-10f2-4565-ac39-3bb810ebe3b0",
   "metadata": {},
   "outputs": [],
   "source": [
    "def eqn(x):\n",
    "    return (x-3)**2"
   ]
  },
  {
   "cell_type": "code",
   "execution_count": 13,
   "id": "f56f8161-1e6f-4526-8284-9f299444a397",
   "metadata": {},
   "outputs": [
    {
     "name": "stdout",
     "output_type": "stream",
     "text": [
      "Root found: 3.0300000000001486  at: 0\n"
     ]
    }
   ],
   "source": [
    "for i in range(iter):\n",
    "    y = eqn(x0)\n",
    "    y1 = eqn(x0 + delta)\n",
    "    if y <= tol:\n",
    "        print(\"Root found:\", x0, \" at:\", i)\n",
    "        break\n",
    "    else:\n",
    "        if y1 > y:\n",
    "            x0 = x0 - delta\n",
    "        else:\n",
    "            x0 = x0 + delta"
   ]
  },
  {
   "cell_type": "markdown",
   "id": "8ee29ce4-3576-4f31-90ca-94db1c240140",
   "metadata": {},
   "source": [
    "# Finding roots - Newton Raphson Method"
   ]
  },
  {
   "cell_type": "code",
   "execution_count": 29,
   "id": "137a91ef-037c-4670-b8cc-ee068d6a3f45",
   "metadata": {},
   "outputs": [],
   "source": [
    "def eqn(x):\n",
    "    return (x-3)**2"
   ]
  },
  {
   "cell_type": "code",
   "execution_count": 31,
   "id": "8b510944-6d6c-48b6-8030-b0a0c54d4299",
   "metadata": {},
   "outputs": [],
   "source": [
    "def deqn(x):\n",
    "    return 2*(x-3)"
   ]
  },
  {
   "cell_type": "code",
   "execution_count": 33,
   "id": "a9ab05cc-e564-4a68-a9d0-d383ae913b53",
   "metadata": {},
   "outputs": [
    {
     "name": "stdout",
     "output_type": "stream",
     "text": [
      "Root found 3.0008544921875 at 12\n"
     ]
    }
   ],
   "source": [
    "for i in range(iter):\n",
    "    x1 = x0\n",
    "    x0 = x0-(eqn(x0)/deqn(x0))\n",
    "    if (x1-x0) <= tol:\n",
    "        print(\"Root found\", x0, \"at\", i)\n",
    "        break"
   ]
  },
  {
   "cell_type": "code",
   "execution_count": 7,
   "id": "c675fb53-f03b-4895-b772-3e3c6ff06f91",
   "metadata": {},
   "outputs": [],
   "source": [
    "iter = 1000\n",
    "delta = 0.01\n",
    "tol = 0.001\n",
    "x0 = 2"
   ]
  },
  {
   "cell_type": "code",
   "execution_count": 9,
   "id": "8d823d62-3d41-40c6-8c75-6b7b952efa82",
   "metadata": {},
   "outputs": [],
   "source": [
    "def eq1(x):\n",
    "    return (x)**3-2*x-5"
   ]
  },
  {
   "cell_type": "code",
   "execution_count": 11,
   "id": "79752911-2975-4dc3-98b7-6a335a06b7e7",
   "metadata": {},
   "outputs": [],
   "source": [
    "def deq1(x):\n",
    "    return 3*(x)**2-2"
   ]
  },
  {
   "cell_type": "code",
   "execution_count": 15,
   "id": "143abaab-8311-41cc-b314-827321dc9399",
   "metadata": {},
   "outputs": [
    {
     "name": "stdout",
     "output_type": "stream",
     "text": [
      "Root found 2.1 at 0\n"
     ]
    }
   ],
   "source": [
    "for i in range(iter):\n",
    "    x1 = x0\n",
    "    x0 = x0-(eq1(x0)/deq1(x0))\n",
    "    if (x1-x0) <= tol:\n",
    "        print(\"Root found\", x0, \"at\", i)\n",
    "        break"
   ]
  },
  {
   "cell_type": "code",
   "execution_count": 33,
   "id": "8a3f9a75-9555-4a84-a919-ed768ec7b865",
   "metadata": {},
   "outputs": [],
   "source": [
    "iter = 1000\n",
    "delta = 0.01\n",
    "tol = 0.001\n",
    "x0 = 4"
   ]
  },
  {
   "cell_type": "code",
   "execution_count": 53,
   "id": "6408ed59-8bc3-40a9-bdcb-0ae0a775f75a",
   "metadata": {},
   "outputs": [],
   "source": [
    "def eq2(x):\n",
    "    2*x - 1000 - (3*(x**(2/3)))"
   ]
  },
  {
   "cell_type": "code",
   "execution_count": 55,
   "id": "e8a85e6f-a876-49c4-84e5-e710d88a0d1b",
   "metadata": {},
   "outputs": [],
   "source": [
    "def deq2(x):\n",
    "    2- (2*(x**(-1/3)))"
   ]
  },
  {
   "cell_type": "code",
   "execution_count": 57,
   "id": "05e0758a-2df2-4c5c-852c-eb188685797b",
   "metadata": {},
   "outputs": [
    {
     "ename": "TypeError",
     "evalue": "unsupported operand type(s) for /: 'NoneType' and 'NoneType'",
     "output_type": "error",
     "traceback": [
      "\u001b[1;31m---------------------------------------------------------------------------\u001b[0m",
      "\u001b[1;31mTypeError\u001b[0m                                 Traceback (most recent call last)",
      "Cell \u001b[1;32mIn[57], line 3\u001b[0m\n\u001b[0;32m      1\u001b[0m \u001b[38;5;28;01mfor\u001b[39;00m i \u001b[38;5;129;01min\u001b[39;00m \u001b[38;5;28mrange\u001b[39m(\u001b[38;5;28miter\u001b[39m):\n\u001b[0;32m      2\u001b[0m     x1 \u001b[38;5;241m=\u001b[39m x0\n\u001b[1;32m----> 3\u001b[0m     x0 \u001b[38;5;241m=\u001b[39m x0\u001b[38;5;241m-\u001b[39m(eq2(x0)\u001b[38;5;241m/\u001b[39mdeq2(x0))\n\u001b[0;32m      4\u001b[0m     \u001b[38;5;28;01mif\u001b[39;00m (x1\u001b[38;5;241m-\u001b[39mx0) \u001b[38;5;241m<\u001b[39m\u001b[38;5;241m=\u001b[39m tol:\n\u001b[0;32m      5\u001b[0m         \u001b[38;5;28mprint\u001b[39m(\u001b[38;5;124m\"\u001b[39m\u001b[38;5;124mRoot found\u001b[39m\u001b[38;5;124m\"\u001b[39m, x0, \u001b[38;5;124m\"\u001b[39m\u001b[38;5;124mat\u001b[39m\u001b[38;5;124m\"\u001b[39m, i)\n",
      "\u001b[1;31mTypeError\u001b[0m: unsupported operand type(s) for /: 'NoneType' and 'NoneType'"
     ]
    }
   ],
   "source": [
    "for i in range(iter):\n",
    "    x1 = x0\n",
    "    x0 = x0-(eq2(x0)/deq2(x0))\n",
    "    if (x1-x0) <= tol:\n",
    "        print(\"Root found\", x0, \"at\", i)\n",
    "        break"
   ]
  },
  {
   "cell_type": "code",
   "execution_count": 63,
   "id": "2e47b050-f126-4b98-b775-c215bb2da9d4",
   "metadata": {},
   "outputs": [],
   "source": [
    "cq1 = []\n",
    "rq1 = []\n",
    "pq1 = []\n",
    "\n",
    "for q in range(1, 1000):\n",
    "    cq = 1000 + 2*q + 3*(q**(2/3))\n",
    "    rq = 4*q\n",
    "    pq = rq - cq\n",
    "    cq1.append(cq)\n",
    "    rq1.append(rq)\n",
    "    pq1.append(pq)"
   ]
  },
  {
   "cell_type": "code",
   "execution_count": 87,
   "id": "0260dc4f-a2af-4801-8d53-8c11c8c5b3c4",
   "metadata": {},
   "outputs": [
    {
     "data": {
      "image/png": "[encoded data removed]",
      "text/plain": [
       "<Figure size 1500x400 with 1 Axes>"
      ]
     },
     "metadata": {},
     "output_type": "display_data"
    }
   ],
   "source": [
    "plt.figure(figsize = (15,4))\n",
    "plt.plot(cq1, label = 'cost')\n",
    "plt.plot(rq1, label = 'Revenue')\n",
    "plt.plot(pq1, label = 'Profit')\n",
    "plt.xlabel(\"Quantity produced - q\")\n",
    "plt.ylabel(\"Amount\")\n",
    "plt.legend()\n",
    "plt.show()"
   ]
  },
  {
   "cell_type": "code",
   "execution_count": 73,
   "id": "16ad6bea-a38d-484f-8a20-e69934eca660",
   "metadata": {},
   "outputs": [],
   "source": [
    "iter = 1000\n",
    "delta = 0.01\n",
    "tol = 0.001\n",
    "x0 = 10000"
   ]
  },
  {
   "cell_type": "code",
   "execution_count": 81,
   "id": "642b8b11-7688-4932-914b-80da27b6af4f",
   "metadata": {},
   "outputs": [],
   "source": [
    "def eq2(x):\n",
    "    return 2*x-1000 -(3*(x**(2/3)))"
   ]
  },
  {
   "cell_type": "code",
   "execution_count": 83,
   "id": "a2568749-1764-48d4-9bd5-ec99b88526aa",
   "metadata": {},
   "outputs": [],
   "source": [
    "def deq2(x):\n",
    "    return 2-(2*(x**(-1/3)))"
   ]
  },
  {
   "cell_type": "code",
   "execution_count": 85,
   "id": "a1fd6305-6ed9-4bb3-a316-263757fd3870",
   "metadata": {},
   "outputs": [
    {
     "name": "stdout",
     "output_type": "stream",
     "text": [
      "Root found 607.6067886332785 at 3\n"
     ]
    }
   ],
   "source": [
    "for i in range(iter):\n",
    "    x1 = x0\n",
    "    x0 = x0-(eq2(x0)/deq2(x0))\n",
    "    if (x1-x0) <= tol:\n",
    "        print(\"Root found\", x0, \"at\", i)\n",
    "        break"
   ]
  },
  {
   "cell_type": "code",
   "execution_count": 89,
   "id": "333dbeef-e124-4f01-9d27-d5dd4ab64084",
   "metadata": {},
   "outputs": [
    {
     "data": {
      "text/plain": [
       "0.0"
      ]
     },
     "execution_count": 89,
     "metadata": {},
     "output_type": "execute_result"
    }
   ],
   "source": [
    "def prft(q):\n",
    "    cq = 1000 + 2*q + 3*(q**(2/3))\n",
    "    rq = 4*q\n",
    "    pq = rq - cq\n",
    "    return pq\n",
    "\n",
    "prft(607.6067886332785)"
   ]
  },
  {
   "cell_type": "code",
   "execution_count": null,
   "id": "8c85ecd9-ba07-48bf-8531-75787f6741a3",
   "metadata": {},
   "outputs": [],
   "source": []
  }
 ],
 "metadata": {
  "kernelspec": {
   "display_name": "Python 3 (ipykernel)",
   "language": "python",
   "name": "python3"
  },
  "language_info": {
   "codemirror_mode": {
    "name": "ipython",
    "version": 3
   },
   "file_extension": ".py",
   "mimetype": "text/x-python",
   "name": "python",
   "nbconvert_exporter": "python",
   "pygments_lexer": "ipython3",
   "version": "3.12.4"
  }
 },
 "nbformat": 4,
 "nbformat_minor": 5
}
